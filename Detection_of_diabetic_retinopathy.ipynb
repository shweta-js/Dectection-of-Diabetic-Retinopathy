{
  "nbformat": 4,
  "nbformat_minor": 0,
  "metadata": {
    "colab": {
      "provenance": [],
      "authorship_tag": "ABX9TyMe+ACavSdfjXnpx22WJ34n",
      "include_colab_link": true
    },
    "kernelspec": {
      "name": "python3",
      "display_name": "Python 3"
    },
    "language_info": {
      "name": "python"
    }
  },
  "cells": [
    {
      "cell_type": "markdown",
      "metadata": {
        "id": "view-in-github",
        "colab_type": "text"
      },
      "source": [
        "<a href=\"https://colab.research.google.com/github/shweta-js/Dectection-of-Diabetic-Retinopathy/blob/main/Detection_of_diabetic_retinopathy.ipynb\" target=\"_parent\"><img src=\"https://colab.research.google.com/assets/colab-badge.svg\" alt=\"Open In Colab\"/></a>"
      ]
    },
    {
      "cell_type": "code",
      "execution_count": null,
      "metadata": {
        "colab": {
          "base_uri": "https://localhost:8080/"
        },
        "id": "Wqtqfha1f94i",
        "outputId": "2d945815-9588-4242-8412-0a98fef6361b"
      },
      "outputs": [
        {
          "output_type": "stream",
          "name": "stdout",
          "text": [
            "hello\n"
          ]
        }
      ],
      "source": [
        "print(\"hello\")"
      ]
    },
    {
      "cell_type": "code",
      "source": [
        "print(\"colab->github this\")"
      ],
      "metadata": {
        "id": "ZqkFU6C2gDc0",
        "colab": {
          "base_uri": "https://localhost:8080/"
        },
        "outputId": "a394f9c6-cd03-4765-a9d3-43d2bf61318e"
      },
      "execution_count": 5,
      "outputs": [
        {
          "output_type": "stream",
          "name": "stdout",
          "text": [
            "colab->github this\n"
          ]
        }
      ]
    },
    {
      "cell_type": "code",
      "source": [
        "print('sljflsdj')"
      ],
      "metadata": {
        "colab": {
          "base_uri": "https://localhost:8080/"
        },
        "id": "uBy_2ZfchAVZ",
        "outputId": "9e8f4749-7aed-4b84-9602-9b2a07040623"
      },
      "execution_count": 7,
      "outputs": [
        {
          "output_type": "stream",
          "name": "stdout",
          "text": [
            "sljflsdj\n"
          ]
        }
      ]
    },
    {
      "cell_type": "code",
      "source": [],
      "metadata": {
        "id": "kD9SbpgIkle5"
      },
      "execution_count": null,
      "outputs": []
    }
  ]
}