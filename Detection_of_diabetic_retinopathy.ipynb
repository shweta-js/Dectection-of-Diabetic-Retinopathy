{
  "nbformat": 4,
  "nbformat_minor": 0,
  "metadata": {
    "colab": {
      "provenance": [],
      "authorship_tag": "ABX9TyP6SHjtkac9TuhcfYqCrjIy",
      "include_colab_link": true
    },
    "kernelspec": {
      "name": "python3",
      "display_name": "Python 3"
    },
    "language_info": {
      "name": "python"
    }
  },
  "cells": [
    {
      "cell_type": "markdown",
      "metadata": {
        "id": "view-in-github",
        "colab_type": "text"
      },
      "source": [
        "<a href=\"https://colab.research.google.com/github/shweta-js/Dectection-of-Diabetic-Retinopathy/blob/main/Detection_of_diabetic_retinopathy.ipynb\" target=\"_parent\"><img src=\"https://colab.research.google.com/assets/colab-badge.svg\" alt=\"Open In Colab\"/></a>"
      ]
    },
    {
      "cell_type": "code",
      "source": [
        "print(\"colab->github\")"
      ],
      "metadata": {
        "id": "ZqkFU6C2gDc0",
        "colab": {
          "base_uri": "https://localhost:8080/"
        },
        "outputId": "a394f9c6-cd03-4765-a9d3-43d2bf61318e"
      },
      "execution_count": null,
      "outputs": [
        {
          "output_type": "stream",
          "name": "stdout",
          "text": [
            "colab->github this\n"
          ]
        }
      ]
    },
    {
      "cell_type": "code",
      "source": [],
      "metadata": {
        "id": "kD9SbpgIkle5"
      },
      "execution_count": null,
      "outputs": []
    }
  ]
}