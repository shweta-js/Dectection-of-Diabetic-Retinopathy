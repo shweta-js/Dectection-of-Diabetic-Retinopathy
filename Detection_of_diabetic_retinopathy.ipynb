{
  "nbformat": 4,
  "nbformat_minor": 0,
  "metadata": {
    "colab": {
      "provenance": [],
      "authorship_tag": "ABX9TyMo8/vUFNR/BV9sChCXdDUh",
      "include_colab_link": true
    },
    "kernelspec": {
      "name": "python3",
      "display_name": "Python 3"
    },
    "language_info": {
      "name": "python"
    }
  },
  "cells": [
    {
      "cell_type": "markdown",
      "metadata": {
        "id": "view-in-github",
        "colab_type": "text"
      },
      "source": [
        "<a href=\"https://colab.research.google.com/github/shweta-js/Dectection-of-Diabetic-Retinopathy/blob/main/Detection_of_diabetic_retinopathy.ipynb\" target=\"_parent\"><img src=\"https://colab.research.google.com/assets/colab-badge.svg\" alt=\"Open In Colab\"/></a>"
      ]
    },
    {
      "cell_type": "code",
      "execution_count": null,
      "metadata": {
        "colab": {
          "base_uri": "https://localhost:8080/"
        },
        "id": "Wqtqfha1f94i",
        "outputId": "2d945815-9588-4242-8412-0a98fef6361b"
      },
      "outputs": [
        {
          "output_type": "stream",
          "name": "stdout",
          "text": [
            "hello\n"
          ]
        }
      ],
      "source": [
        "print(\"hello\")"
      ]
    },
    {
      "cell_type": "code",
      "source": [
        "print(\"colab->github\")"
      ],
      "metadata": {
        "id": "ZqkFU6C2gDc0",
        "colab": {
          "base_uri": "https://localhost:8080/"
        },
        "outputId": "1dbed056-0805-416a-b873-8758576b5cf9"
      },
      "execution_count": 4,
      "outputs": [
        {
          "output_type": "stream",
          "name": "stdout",
          "text": [
            "colab->github\n"
          ]
        }
      ]
    },
    {
      "cell_type": "code",
      "source": [],
      "metadata": {
        "id": "uBy_2ZfchAVZ"
      },
      "execution_count": null,
      "outputs": []
    }
  ]
}