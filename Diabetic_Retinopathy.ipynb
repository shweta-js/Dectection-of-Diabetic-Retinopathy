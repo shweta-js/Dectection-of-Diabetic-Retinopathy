{
  "nbformat": 4,
  "nbformat_minor": 0,
  "metadata": {
    "colab": {
      "provenance": []
    },
    "kernelspec": {
      "name": "python3",
      "display_name": "Python 3"
    },
    "language_info": {
      "name": "python"
    }
  },
  "cells": [
    {
      "cell_type": "code",
      "execution_count": 1,
      "metadata": {
        "id": "HHGuk45Ne3Cr",
        "colab": {
          "base_uri": "https://localhost:8080/"
        },
        "outputId": "a34bef57-5930-461f-9d79-4aa167e78b8c"
      },
      "outputs": [
        {
          "output_type": "stream",
          "name": "stdout",
          "text": [
            "colab->github\n"
          ]
        }
      ],
      "source": [
        "print(\"colab->github\")"
      ]
    },
    {
      "cell_type": "code",
      "source": [],
      "metadata": {
        "id": "JarO_10Pgy4k"
      },
      "execution_count": null,
      "outputs": []
    }
  ]
}